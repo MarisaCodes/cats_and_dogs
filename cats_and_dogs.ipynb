{
 "cells": [
  {
   "cell_type": "code",
   "execution_count": 4,
   "metadata": {},
   "outputs": [],
   "source": [
    "import os\n",
    "import numpy as np\n",
    "import matplotlib.pyplot as plt\n",
    "import cv2\n",
    "\n",
    "__file__ = os.path.abspath(\"\")\n",
    "LABELS = [\"Dog\", \"Cat\"]\n",
    "IMG_SIZE=100\n",
    "\n"
   ]
  },
  {
   "cell_type": "code",
   "execution_count": 6,
   "metadata": {},
   "outputs": [],
   "source": [
    "from random import shuffle\n",
    "\n",
    "def create_training_data(datadir:str):\n",
    "    training_data = []\n",
    "    for label in LABELS:\n",
    "        path = os.path.join(datadir, label)\n",
    "        label_num = LABELS.index(label)\n",
    "        for img in os.listdir(path=path):\n",
    "            try:\n",
    "                img_array = cv2.imread(os.path.join(path,img),cv2.IMREAD_GRAYSCALE)\n",
    "                img_array = cv2.resize(img_array,(IMG_SIZE, IMG_SIZE))\n",
    "                training_data.append([img_array, label_num])\n",
    "            except Exception as e:\n",
    "                pass\n",
    "    shuffle(training_data)\n",
    "    return training_data"
   ]
  },
  {
   "cell_type": "code",
   "execution_count": null,
   "metadata": {},
   "outputs": [],
   "source": [
    "datadir = os.path.join(__file__, \"imgs/PetImages/\")\n",
    "training_data = create_training_data(datadir=datadir)"
   ]
  },
  {
   "cell_type": "code",
   "execution_count": null,
   "metadata": {},
   "outputs": [],
   "source": [
    "x = []\n",
    "y = []\n",
    "\n",
    "for feature, label in training_data:\n",
    "    x.append(feature)\n",
    "    y.append(label)\n",
    "\n",
    "x = np.array(x).reshape(-1, IMG_SIZE, IMG_SIZE, 1)\n",
    "\n"
   ]
  },
  {
   "cell_type": "code",
   "execution_count": null,
   "metadata": {},
   "outputs": [
    {
     "data": {
      "text/plain": [
       "0"
      ]
     },
     "execution_count": 5,
     "metadata": {},
     "output_type": "execute_result"
    }
   ],
   "source": [
    "import gc\n",
    "\n",
    "gc.collect()"
   ]
  },
  {
   "cell_type": "code",
   "execution_count": null,
   "metadata": {},
   "outputs": [],
   "source": [
    "# save processed data\n",
    "\n",
    "np.save(os.path.join(__file__,\"x.npy\"),x)\n",
    "np.save(os.path.join(__file__,\"y.npy\"),y)"
   ]
  },
  {
   "cell_type": "code",
   "execution_count": 3,
   "metadata": {},
   "outputs": [],
   "source": [
    "# loading the data set\n",
    "with open(\"x.npy\",\"rb\") as f:\n",
    "    x = np.load(f)\n",
    "with open(\"y.npy\", \"rb\") as f:\n",
    "    y = np.load(f)"
   ]
  },
  {
   "cell_type": "code",
   "execution_count": 9,
   "metadata": {},
   "outputs": [
    {
     "name": "stdout",
     "output_type": "stream",
     "text": [
      "2.13.0\n"
     ]
    }
   ],
   "source": [
    "import tensorflow as tf\n",
    "from keras import Sequential\n",
    "from keras.layers import Dense, Conv2D, MaxPooling2D, Activation,Flatten\n",
    "\n",
    "model = Sequential()\n",
    "\n",
    "print(tf.__version__)"
   ]
  },
  {
   "cell_type": "code",
   "execution_count": 5,
   "metadata": {},
   "outputs": [],
   "source": [
    "x = tf.keras.utils.normalize(x, axis=1)"
   ]
  },
  {
   "cell_type": "code",
   "execution_count": 6,
   "metadata": {},
   "outputs": [
    {
     "name": "stderr",
     "output_type": "stream",
     "text": [
      "2023-09-24 18:30:12.546681: W tensorflow/tsl/framework/cpu_allocator_impl.cc:83] Allocation of 898040000 exceeds 10% of free system memory.\n"
     ]
    },
    {
     "name": "stdout",
     "output_type": "stream",
     "text": [
      "Epoch 1/3\n"
     ]
    },
    {
     "name": "stderr",
     "output_type": "stream",
     "text": [
      "2023-09-24 18:30:28.931812: W tensorflow/tsl/framework/cpu_allocator_impl.cc:83] Allocation of 81920000 exceeds 10% of free system memory.\n",
      "2023-09-24 18:30:29.593104: W tensorflow/tsl/framework/cpu_allocator_impl.cc:83] Allocation of 40960000 exceeds 10% of free system memory.\n",
      "2023-09-24 18:30:29.594207: W tensorflow/tsl/framework/cpu_allocator_impl.cc:83] Allocation of 81920000 exceeds 10% of free system memory.\n"
     ]
    },
    {
     "name": "stdout",
     "output_type": "stream",
     "text": [
      "  1/702 [..............................] - ETA: 42:59 - loss: 0.6872 - accuracy: 0.6562"
     ]
    },
    {
     "name": "stderr",
     "output_type": "stream",
     "text": [
      "2023-09-24 18:30:29.867252: W tensorflow/tsl/framework/cpu_allocator_impl.cc:83] Allocation of 81920000 exceeds 10% of free system memory.\n"
     ]
    },
    {
     "name": "stdout",
     "output_type": "stream",
     "text": [
      "702/702 [==============================] - 430s 608ms/step - loss: 0.6595 - accuracy: 0.5957 - val_loss: 0.6244 - val_accuracy: 0.6754\n",
      "Epoch 2/3\n",
      "702/702 [==============================] - 540s 769ms/step - loss: 0.5645 - accuracy: 0.7085 - val_loss: 0.5389 - val_accuracy: 0.7347\n",
      "Epoch 3/3\n",
      "702/702 [==============================] - 440s 627ms/step - loss: 0.4881 - accuracy: 0.7674 - val_loss: 0.5053 - val_accuracy: 0.7527\n"
     ]
    },
    {
     "data": {
      "text/plain": [
       "<keras.src.callbacks.History at 0x7f53fb9da500>"
      ]
     },
     "execution_count": 6,
     "metadata": {},
     "output_type": "execute_result"
    }
   ],
   "source": [
    "model.add(Conv2D(64, (3,3), input_shape=x.shape[1:], padding=\"same\"))\n",
    "model.add(Activation(\"relu\"))\n",
    "model.add(MaxPooling2D(pool_size=(2,2)))\n",
    "\n",
    "model.add(Conv2D(64, (3,3), padding=\"same\"))\n",
    "model.add(Activation(\"relu\"))\n",
    "model.add(MaxPooling2D(pool_size=(2,2)))\n",
    "\n",
    "model.add(Flatten())\n",
    "model.add(Dense(64))\n",
    "model.add(Activation(\"relu\"))\n",
    "\n",
    "model.add(Dense(1))\n",
    "model.add(Activation(\"sigmoid\"))\n",
    "\n",
    "model.compile(loss=tf.keras.losses.binary_crossentropy, \n",
    "              optimizer=\"adam\",\n",
    "              metrics=[\"accuracy\"])\n",
    "model.fit(x, y,\n",
    "          batch_size=32,\n",
    "          epochs=3,\n",
    "          validation_split=0.1)\n"
   ]
  },
  {
   "cell_type": "code",
   "execution_count": 7,
   "metadata": {},
   "outputs": [],
   "source": [
    "model.save('cats_and_dogs.keras')"
   ]
  },
  {
   "cell_type": "code",
   "execution_count": 12,
   "metadata": {},
   "outputs": [],
   "source": [
    "import keras as keras\n",
    "model = keras.models.load_model(\"cats_and_dogs.keras\")\n",
    "\n",
    "testdir = os.path.join(__file__,\"test/\")\n",
    "test_data = create_training_data(datadir=testdir)\n",
    "\n",
    "\n",
    "\n",
    "def prepare_test_data(data):\n",
    "    x_test = []\n",
    "    y_test = []\n",
    "    for feature, label in data:\n",
    "        x_test.append(feature)\n",
    "        y_test.append(label)\n",
    "    x_test = np.array(x_test).reshape(-1, IMG_SIZE, IMG_SIZE, 1)\n",
    "    y_test = np.array(y_test)\n",
    "    return (x_test, y_test)\n"
   ]
  },
  {
   "cell_type": "code",
   "execution_count": 15,
   "metadata": {},
   "outputs": [
    {
     "data": {
      "image/png": "[encoded data removed]",
      "text/plain": [
       "<Figure size 640x480 with 1 Axes>"
      ]
     },
     "metadata": {},
     "output_type": "display_data"
    },
    {
     "name": "stdout",
     "output_type": "stream",
     "text": [
      "1/1 [==============================] - 0s 179ms/step\n",
      "[[0.10676833]]\n",
      "1/1 [==============================] - 0s 258ms/step\n",
      "Dog\n"
     ]
    }
   ],
   "source": [
    "(x, y) = prepare_test_data(test_data)\n",
    "x = tf.keras.utils.normalize(x,axis=1)\n",
    "p = x[1].reshape(-1, IMG_SIZE, IMG_SIZE, 1)\n",
    "plt.imshow(p[0])\n",
    "plt.show()\n",
    "print(model.predict(p))\n",
    "pred = round(model.predict(p)[0][0])\n",
    "\n",
    "print(LABELS[pred])"
   ]
  },
  {
   "cell_type": "code",
   "execution_count": null,
   "metadata": {},
   "outputs": [],
   "source": [
    "from keras.callbacks import TensorBoard"
   ]
  }
 ],
 "metadata": {
  "kernelspec": {
   "display_name": "venv",
   "language": "python",
   "name": "python3"
  },
  "language_info": {
   "codemirror_mode": {
    "name": "ipython",
    "version": 3
   },
   "file_extension": ".py",
   "mimetype": "text/x-python",
   "name": "python",
   "nbconvert_exporter": "python",
   "pygments_lexer": "ipython3",
   "version": "3.10.12"
  },
  "orig_nbformat": 4
 },
 "nbformat": 4,
 "nbformat_minor": 2
}
